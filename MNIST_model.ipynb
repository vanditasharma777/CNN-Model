{
  "nbformat": 4,
  "nbformat_minor": 0,
  "metadata": {
    "colab": {
      "name": "MNIST_model.ipynb",
      "provenance": [],
      "collapsed_sections": [],
      "include_colab_link": true
    },
    "kernelspec": {
      "name": "python3",
      "display_name": "Python 3"
    },
    "accelerator": "GPU"
  },
  "cells": [
    {
      "cell_type": "markdown",
      "metadata": {
        "id": "view-in-github",
        "colab_type": "text"
      },
      "source": [
        "<a href=\"https://colab.research.google.com/github/vanditasharma777/M/blob/main/MNIST_model.ipynb\" target=\"_parent\"><img src=\"https://colab.research.google.com/assets/colab-badge.svg\" alt=\"Open In Colab\"/></a>"
      ]
    },
    {
      "cell_type": "markdown",
      "source": [
        ""
      ],
      "metadata": {
        "id": "q86_sVhBoTN0"
      }
    },
    {
      "cell_type": "code",
      "metadata": {
        "id": "4hH14rTgsqVT"
      },
      "source": [
        "import keras\n",
        "import tensorflow\n",
        "from keras.datasets import mnist\n",
        "from keras.models import Sequential \n",
        "from keras.layers import Dense, Dropout, Flatten,Softmax,Conv2D, MaxPooling2D\n",
        "from keras import backend as k\n",
        "from keras.applications.vgg16 import VGG16\n",
        "from tensorflow.keras.optimizers import Adam\n",
        "from keras.utils import np_utils\n",
        "import sklearn\n",
        "batch_size = 64\n",
        "num_classes = 10\n",
        "epochs = 12"
      ],
      "execution_count": null,
      "outputs": []
    },
    {
      "cell_type": "code",
      "metadata": {
        "id": "mlmfzkE_s7mB",
        "colab": {
          "base_uri": "https://localhost:8080/"
        },
        "outputId": "049fddc1-2123-441f-f36b-2768674de685"
      },
      "source": [
        "(x_train, y_train), (x_test, y_test) = mnist.load_data()\n",
        "print('x_train shape:', x_train.shape)\n",
        "print(x_train.shape[0], 'train samples')\n",
        "print(x_test.shape[0], 'test samples')"
      ],
      "execution_count": null,
      "outputs": [
        {
          "output_type": "stream",
          "name": "stdout",
          "text": [
            "Downloading data from https://storage.googleapis.com/tensorflow/tf-keras-datasets/mnist.npz\n",
            "11493376/11490434 [==============================] - 0s 0us/step\n",
            "11501568/11490434 [==============================] - 0s 0us/step\n",
            "x_train shape: (60000, 28, 28)\n",
            "60000 train samples\n",
            "10000 test samples\n"
          ]
        }
      ]
    },
    {
      "cell_type": "code",
      "metadata": {
        "id": "zF8Ozz3BEV7C",
        "colab": {
          "base_uri": "https://localhost:8080/"
        },
        "outputId": "9257094d-a5d5-4627-f013-8404d2065194"
      },
      "source": [
        "from keras.utils import np_utils\n",
        "# one-hot encode the labels\n",
        "y_train = np_utils.to_categorical(y_train, 10)\n",
        "y_test = np_utils.to_categorical(y_test, 10)\n",
        "y_train.shape,y_test.shape\n"
      ],
      "execution_count": null,
      "outputs": [
        {
          "output_type": "execute_result",
          "data": {
            "text/plain": [
              "((60000, 10), (10000, 10))"
            ]
          },
          "metadata": {},
          "execution_count": 5
        }
      ]
    },
    {
      "cell_type": "code",
      "metadata": {
        "id": "X3DgmlAaemJL",
        "colab": {
          "base_uri": "https://localhost:8080/"
        },
        "outputId": "843f4a0f-d9ab-47ad-dac6-50777d49cd6d"
      },
      "source": [
        "## only for mnist becuase mnist is grayscale so , we are converting them rgb (three dimensional)\n",
        "import numpy as np\n",
        "import cv2\n",
        "dim = (48, 48)\n",
        "\n",
        "#convert 28x28 grayscale to 48x48 rgb channels\n",
        "def to_rgb(img):\n",
        "    img = cv2.resize(img, dim, interpolation = cv2.INTER_AREA) \n",
        "    img_rgb = np.asarray(np.dstack((img, img, img)), dtype=np.uint8)\n",
        "    return img_rgb\n",
        "\n",
        "rgb_list = []\n",
        "#convert X_train data to 48x48 rgb values\n",
        "for i in range(len(x_train)):\n",
        "    rgb = to_rgb(x_train[i])\n",
        "    rgb_list.append(rgb)\n",
        "    #print(rgb.shape)\n",
        "    \n",
        "x_train_rgb = np.stack([rgb_list],axis=4)\n",
        "x_train_rgb_3d = np.squeeze(x_train_rgb, axis=4)\n",
        "print(x_train_rgb_3d.shape)"
      ],
      "execution_count": null,
      "outputs": [
        {
          "output_type": "stream",
          "name": "stdout",
          "text": [
            "(60000, 48, 48, 3)\n"
          ]
        }
      ]
    },
    {
      "cell_type": "code",
      "metadata": {
        "id": "50aBDla9EdM3",
        "colab": {
          "base_uri": "https://localhost:8080/"
        },
        "outputId": "d2b53f6d-51f7-4b6a-bd57-b79893307aba"
      },
      "source": [
        "## only for mnist becuase mnist is grayscale so , we are converting them rgb (three dimensional)\n",
        "\n",
        "import cv2\n",
        "dim = (48, 48)\n",
        "\n",
        "#convert 28x28 grayscale to 48x48 rgb channels\n",
        "def to_rgb(img):\n",
        "    img = cv2.resize(img, dim, interpolation = cv2.INTER_AREA) \n",
        "    img_rgb = np.asarray(np.dstack((img, img, img)), dtype=np.uint8)\n",
        "    return img_rgb\n",
        "\n",
        "rgb_list = []\n",
        "#convert X_train data to 48x48 rgb values\n",
        "for i in range(len(x_test)):\n",
        "    rgb = to_rgb(x_test[i])\n",
        "    rgb_list.append(rgb)\n",
        "    #print(rgb.shape)\n",
        "    \n",
        "x_test_rgb = np.stack([rgb_list],axis=4)\n",
        "x_test_rgb_3d = np.squeeze(x_test_rgb, axis=4)\n",
        "print(x_test_rgb_3d.shape)"
      ],
      "execution_count": null,
      "outputs": [
        {
          "output_type": "stream",
          "name": "stdout",
          "text": [
            "(10000, 48, 48, 3)\n"
          ]
        }
      ]
    },
    {
      "cell_type": "code",
      "metadata": {
        "id": "kh468VGbe9jP",
        "colab": {
          "base_uri": "https://localhost:8080/"
        },
        "outputId": "fb610998-44d1-4861-e900-07691ca624a6"
      },
      "source": [
        "vgg16_model = VGG16(weights = 'imagenet',include_top=False,input_shape=(48,48,3))\n",
        "\n",
        "for layer in vgg16_model.layers: \n",
        "    layer.trainable = False\n",
        "\n",
        "\n",
        "vgg16_model.summary()"
      ],
      "execution_count": null,
      "outputs": [
        {
          "output_type": "stream",
          "name": "stdout",
          "text": [
            "Downloading data from https://storage.googleapis.com/tensorflow/keras-applications/vgg16/vgg16_weights_tf_dim_ordering_tf_kernels_notop.h5\n",
            "58892288/58889256 [==============================] - 1s 0us/step\n",
            "58900480/58889256 [==============================] - 1s 0us/step\n",
            "Model: \"vgg16\"\n",
            "_________________________________________________________________\n",
            " Layer (type)                Output Shape              Param #   \n",
            "=================================================================\n",
            " input_1 (InputLayer)        [(None, 48, 48, 3)]       0         \n",
            "                                                                 \n",
            " block1_conv1 (Conv2D)       (None, 48, 48, 64)        1792      \n",
            "                                                                 \n",
            " block1_conv2 (Conv2D)       (None, 48, 48, 64)        36928     \n",
            "                                                                 \n",
            " block1_pool (MaxPooling2D)  (None, 24, 24, 64)        0         \n",
            "                                                                 \n",
            " block2_conv1 (Conv2D)       (None, 24, 24, 128)       73856     \n",
            "                                                                 \n",
            " block2_conv2 (Conv2D)       (None, 24, 24, 128)       147584    \n",
            "                                                                 \n",
            " block2_pool (MaxPooling2D)  (None, 12, 12, 128)       0         \n",
            "                                                                 \n",
            " block3_conv1 (Conv2D)       (None, 12, 12, 256)       295168    \n",
            "                                                                 \n",
            " block3_conv2 (Conv2D)       (None, 12, 12, 256)       590080    \n",
            "                                                                 \n",
            " block3_conv3 (Conv2D)       (None, 12, 12, 256)       590080    \n",
            "                                                                 \n",
            " block3_pool (MaxPooling2D)  (None, 6, 6, 256)         0         \n",
            "                                                                 \n",
            " block4_conv1 (Conv2D)       (None, 6, 6, 512)         1180160   \n",
            "                                                                 \n",
            " block4_conv2 (Conv2D)       (None, 6, 6, 512)         2359808   \n",
            "                                                                 \n",
            " block4_conv3 (Conv2D)       (None, 6, 6, 512)         2359808   \n",
            "                                                                 \n",
            " block4_pool (MaxPooling2D)  (None, 3, 3, 512)         0         \n",
            "                                                                 \n",
            " block5_conv1 (Conv2D)       (None, 3, 3, 512)         2359808   \n",
            "                                                                 \n",
            " block5_conv2 (Conv2D)       (None, 3, 3, 512)         2359808   \n",
            "                                                                 \n",
            " block5_conv3 (Conv2D)       (None, 3, 3, 512)         2359808   \n",
            "                                                                 \n",
            " block5_pool (MaxPooling2D)  (None, 1, 1, 512)         0         \n",
            "                                                                 \n",
            "=================================================================\n",
            "Total params: 14,714,688\n",
            "Trainable params: 0\n",
            "Non-trainable params: 14,714,688\n",
            "_________________________________________________________________\n"
          ]
        }
      ]
    },
    {
      "cell_type": "code",
      "metadata": {
        "id": "uzXKIP5PfGGg",
        "colab": {
          "base_uri": "https://localhost:8080/"
        },
        "outputId": "f93507bf-4c32-49b4-aedf-718c81e80ee5"
      },
      "source": [
        "model = Sequential()\n",
        "for layer in vgg16_model.layers[:-1]: \n",
        "    model.add(layer)\n",
        "model.add(Flatten())\n",
        "model.add(Dense(128,activation = \"relu\"))\n",
        "model.add(Dense(10, activation=\"softmax\"))\n",
        "model.summary()"
      ],
      "execution_count": null,
      "outputs": [
        {
          "output_type": "stream",
          "name": "stdout",
          "text": [
            "Model: \"sequential\"\n",
            "_________________________________________________________________\n",
            " Layer (type)                Output Shape              Param #   \n",
            "=================================================================\n",
            " block1_conv1 (Conv2D)       (None, 48, 48, 64)        1792      \n",
            "                                                                 \n",
            " block1_conv2 (Conv2D)       (None, 48, 48, 64)        36928     \n",
            "                                                                 \n",
            " block1_pool (MaxPooling2D)  (None, 24, 24, 64)        0         \n",
            "                                                                 \n",
            " block2_conv1 (Conv2D)       (None, 24, 24, 128)       73856     \n",
            "                                                                 \n",
            " block2_conv2 (Conv2D)       (None, 24, 24, 128)       147584    \n",
            "                                                                 \n",
            " block2_pool (MaxPooling2D)  (None, 12, 12, 128)       0         \n",
            "                                                                 \n",
            " block3_conv1 (Conv2D)       (None, 12, 12, 256)       295168    \n",
            "                                                                 \n",
            " block3_conv2 (Conv2D)       (None, 12, 12, 256)       590080    \n",
            "                                                                 \n",
            " block3_conv3 (Conv2D)       (None, 12, 12, 256)       590080    \n",
            "                                                                 \n",
            " block3_pool (MaxPooling2D)  (None, 6, 6, 256)         0         \n",
            "                                                                 \n",
            " block4_conv1 (Conv2D)       (None, 6, 6, 512)         1180160   \n",
            "                                                                 \n",
            " block4_conv2 (Conv2D)       (None, 6, 6, 512)         2359808   \n",
            "                                                                 \n",
            " block4_conv3 (Conv2D)       (None, 6, 6, 512)         2359808   \n",
            "                                                                 \n",
            " block4_pool (MaxPooling2D)  (None, 3, 3, 512)         0         \n",
            "                                                                 \n",
            " block5_conv1 (Conv2D)       (None, 3, 3, 512)         2359808   \n",
            "                                                                 \n",
            " block5_conv2 (Conv2D)       (None, 3, 3, 512)         2359808   \n",
            "                                                                 \n",
            " block5_conv3 (Conv2D)       (None, 3, 3, 512)         2359808   \n",
            "                                                                 \n",
            " flatten (Flatten)           (None, 4608)              0         \n",
            "                                                                 \n",
            " dense (Dense)               (None, 128)               589952    \n",
            "                                                                 \n",
            " dense_1 (Dense)             (None, 10)                1290      \n",
            "                                                                 \n",
            "=================================================================\n",
            "Total params: 15,305,930\n",
            "Trainable params: 591,242\n",
            "Non-trainable params: 14,714,688\n",
            "_________________________________________________________________\n"
          ]
        }
      ]
    },
    {
      "cell_type": "code",
      "metadata": {
        "id": "dVSiza0cfQbW"
      },
      "source": [
        "from tensorflow.keras.optimizers import Adam,Adagrad"
      ],
      "execution_count": null,
      "outputs": []
    },
    {
      "cell_type": "code",
      "metadata": {
        "id": "tp8hspeRfQYD",
        "colab": {
          "base_uri": "https://localhost:8080/"
        },
        "outputId": "e39cec4f-fbed-46c7-b6be-73acb11826d4"
      },
      "source": [
        "model.compile(Adam(lr=.0001),loss='categorical_crossentropy',metrics=['accuracy'])"
      ],
      "execution_count": null,
      "outputs": [
        {
          "output_type": "stream",
          "name": "stderr",
          "text": [
            "/usr/local/lib/python3.7/dist-packages/keras/optimizer_v2/adam.py:105: UserWarning: The `lr` argument is deprecated, use `learning_rate` instead.\n",
            "  super(Adam, self).__init__(name, **kwargs)\n"
          ]
        }
      ]
    },
    {
      "cell_type": "code",
      "metadata": {
        "id": "PC5-D738fP0-",
        "colab": {
          "base_uri": "https://localhost:8080/"
        },
        "outputId": "f53e30ed-5939-44a6-b6e4-111386d31aee"
      },
      "source": [
        "hist = model.fit(x_train_rgb_3d, y_train,batch_size=64,epochs=5,verbose=1,validation_data=(x_test_rgb_3d, y_test)).history"
      ],
      "execution_count": null,
      "outputs": [
        {
          "output_type": "stream",
          "name": "stdout",
          "text": [
            "Epoch 1/5\n",
            "938/938 [==============================] - 34s 25ms/step - loss: 0.4464 - accuracy: 0.8978 - val_loss: 0.1659 - val_accuracy: 0.9536\n",
            "Epoch 2/5\n",
            "938/938 [==============================] - 22s 24ms/step - loss: 0.1041 - accuracy: 0.9683 - val_loss: 0.1177 - val_accuracy: 0.9669\n",
            "Epoch 3/5\n",
            "938/938 [==============================] - 22s 24ms/step - loss: 0.0675 - accuracy: 0.9788 - val_loss: 0.1126 - val_accuracy: 0.9686\n",
            "Epoch 4/5\n",
            "938/938 [==============================] - 22s 24ms/step - loss: 0.0531 - accuracy: 0.9828 - val_loss: 0.0971 - val_accuracy: 0.9728\n",
            "Epoch 5/5\n",
            "938/938 [==============================] - 22s 24ms/step - loss: 0.0403 - accuracy: 0.9868 - val_loss: 0.0916 - val_accuracy: 0.9740\n"
          ]
        }
      ]
    },
    {
      "cell_type": "code",
      "metadata": {
        "id": "gE0pg1qdv7FV",
        "colab": {
          "base_uri": "https://localhost:8080/"
        },
        "outputId": "1a86bedc-b4c3-45cc-bd3e-cd30b48cc97e"
      },
      "source": [
        "import matplotlib.pylab as plt\n",
        "plt.figure()\n",
        "plt.ylabel(\"Loss (training and validation)\")\n",
        "plt.xlabel(\"Training Steps\")\n",
        "plt.ylim([0,0.2])\n",
        "plt.plot(hist[\"loss\"])\n",
        "plt.plot(hist[\"val_loss\"])\n",
        "\n",
        "plt.figure()\n",
        "plt.ylabel(\"Accuracy (training and validation)\")\n",
        "plt.xlabel(\"Training Steps\")\n",
        "plt.ylim([0.9,1])\n",
        "plt.plot(hist[\"accuracy\"])\n",
        "plt.plot(hist[\"val_accuracy\"])"
      ],
      "execution_count": null,
      "outputs": [
        {
          "output_type": "execute_result",
          "data": {
            "text/plain": [
              "[<matplotlib.lines.Line2D at 0x7fae301c8810>]"
            ]
          },
          "metadata": {},
          "execution_count": 14
        },
        {
          "output_type": "display_data",
          "data": {
            "text/plain": [
              "<Figure size 432x288 with 1 Axes>"
            ],
            "image/png": "[encoded data removed]"
          },
          "metadata": {
            "needs_background": "light"
          }
        },
        {
          "output_type": "display_data",
          "data": {
            "text/plain": [
              "<Figure size 432x288 with 1 Axes>"
            ],
            "image/png": "[encoded data removed]"
          },
          "metadata": {
            "needs_background": "light"
          }
        }
      ]
    },
    {
      "cell_type": "code",
      "metadata": {
        "id": "GOyA2pVq6nOv"
      },
      "source": [
        "model.save(\"MNIST.h5\")"
      ],
      "execution_count": null,
      "outputs": []
    }
  ]
}